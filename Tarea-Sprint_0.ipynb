{
 "cells": [
  {
   "cell_type": "markdown",
   "id": "b3ab5c44-e62c-48e7-82ff-3ccd2ce1126d",
   "metadata": {},
   "source": [
    "  "
   ]
  },
  {
   "cell_type": "markdown",
   "id": "3c6d7199-e169-4493-8d5a-1bc856c5bb42",
   "metadata": {},
   "source": [
    "# **Mi primer documento Jupyter con código Python y Markdown**"
   ]
  },
  {
   "cell_type": "markdown",
   "id": "bb50b606-a118-46ae-9cd4-5e4d43f1c2a6",
   "metadata": {},
   "source": [
    "  "
   ]
  },
  {
   "cell_type": "markdown",
   "id": "d2c92e37-a8e0-4ada-856e-fb58aeff3270",
   "metadata": {},
   "source": [
    "  "
   ]
  },
  {
   "cell_type": "markdown",
   "id": "a7796f33-0557-4de2-8971-364b3ca77e35",
   "metadata": {},
   "source": [
    "## **Contenido**"
   ]
  },
  {
   "cell_type": "markdown",
   "id": "fa891bf6-ee10-4c8d-b783-ca49b52e0950",
   "metadata": {},
   "source": [
    "  "
   ]
  },
  {
   "cell_type": "markdown",
   "id": "2b1caf0c-6236-4483-b837-8a784bca3c98",
   "metadata": {},
   "source": [
    "### *Ejemplos del uso de código **Python** y **Markdown**. Mire los puntos del 1, 2, 3 (Python) y 4 (Markdown) a continuación.*"
   ]
  },
  {
   "cell_type": "markdown",
   "id": "e87bdc0a-ad18-4db7-a465-fe0fc8302605",
   "metadata": {},
   "source": [
    "  "
   ]
  },
  {
   "cell_type": "markdown",
   "id": "7dc52918-81a5-496a-b331-335ef5cf3bda",
   "metadata": {},
   "source": [
    "### 1. Cálculos matemáticos sencillos con ***variables***:"
   ]
  },
  {
   "cell_type": "markdown",
   "id": "bf9bc132-bfc3-4c0d-aa54-61dc8e731af5",
   "metadata": {},
   "source": [
    "#### - *Suma:*"
   ]
  },
  {
   "cell_type": "code",
   "execution_count": 95,
   "id": "4da7ef42-e9cf-4006-a50d-3cfd351dc021",
   "metadata": {},
   "outputs": [
    {
     "name": "stdout",
     "output_type": "stream",
     "text": [
      "740\n"
     ]
    }
   ],
   "source": [
    "x1 = 510\n",
    "y1 = 230\n",
    "print(x1 + y1)"
   ]
  },
  {
   "cell_type": "markdown",
   "id": "a0d6592d-28ce-41ef-b013-5f051b9c20fc",
   "metadata": {},
   "source": [
    "#### - *Resta:*"
   ]
  },
  {
   "cell_type": "code",
   "execution_count": 98,
   "id": "111434e6-e397-4cc7-8b51-cfd3499025bc",
   "metadata": {},
   "outputs": [
    {
     "name": "stdout",
     "output_type": "stream",
     "text": [
      "-999\n"
     ]
    }
   ],
   "source": [
    "x12 = 1\n",
    "y2 = 1000\n",
    "print(x2 - y2)"
   ]
  },
  {
   "cell_type": "markdown",
   "id": "72878831-6b0e-49d6-a69b-f608435d9a9e",
   "metadata": {},
   "source": [
    "#### - *Multiplicación:*"
   ]
  },
  {
   "cell_type": "code",
   "execution_count": 44,
   "id": "3dd14a15-55ca-4aca-b10d-33ed1f321dd0",
   "metadata": {},
   "outputs": [
    {
     "name": "stdout",
     "output_type": "stream",
     "text": [
      "72\n"
     ]
    }
   ],
   "source": [
    "x3 = 8\n",
    "y3 = 9\n",
    "print(x3 * y3)"
   ]
  },
  {
   "cell_type": "markdown",
   "id": "1e0d21a4-8077-47df-b790-8e1a11dfeeed",
   "metadata": {},
   "source": [
    "#### - *División:*"
   ]
  },
  {
   "cell_type": "code",
   "execution_count": 46,
   "id": "2ce37175-a235-4134-a6f4-4398720a5425",
   "metadata": {},
   "outputs": [
    {
     "name": "stdout",
     "output_type": "stream",
     "text": [
      "0.3333333333333333\n"
     ]
    }
   ],
   "source": [
    "x4 = 1\n",
    "y4 = 3\n",
    "print(x4 / y4)"
   ]
  },
  {
   "cell_type": "markdown",
   "id": "8495cdab-37ea-4e6d-88fd-abb4359ed958",
   "metadata": {},
   "source": [
    "  "
   ]
  },
  {
   "cell_type": "markdown",
   "id": "bf084467-2f3b-468f-b695-6bd18afb5c11",
   "metadata": {},
   "source": [
    "### 2. Uso de ***funciones matemáticas***:"
   ]
  },
  {
   "cell_type": "markdown",
   "id": "5b5e2ddd-ff60-489b-be17-3338870a03bf",
   "metadata": {},
   "source": [
    "#### - *min y max*:"
   ]
  },
  {
   "cell_type": "code",
   "execution_count": 52,
   "id": "3e1c4002-d522-4554-add7-3a1ce2a38271",
   "metadata": {},
   "outputs": [
    {
     "name": "stdout",
     "output_type": "stream",
     "text": [
      "-3\n",
      "55\n"
     ]
    }
   ],
   "source": [
    "m1 = min(23, 14, 1.99, 55, 1.12, -3, 2, 6.1)\n",
    "m2 = max(23, 14, 1.99, 55, 1.12, -3, 2, 6.1)\n",
    "print(m1)\n",
    "print(m2)"
   ]
  },
  {
   "cell_type": "markdown",
   "id": "5adc6101-8f6f-4635-a4db-ee7bd1e9ed9a",
   "metadata": {},
   "source": [
    "#### - *math.sqrt(...)*:"
   ]
  },
  {
   "cell_type": "code",
   "execution_count": 119,
   "id": "fee09b91-15d3-4e81-bea6-7bb03493fc8e",
   "metadata": {},
   "outputs": [
    {
     "name": "stdout",
     "output_type": "stream",
     "text": [
      "8.0\n"
     ]
    }
   ],
   "source": [
    "import math\n",
    "v1 = math.sqrt(64)\n",
    "print(v1)"
   ]
  },
  {
   "cell_type": "markdown",
   "id": "abbc8510-cdda-4679-986c-fc977d2649c2",
   "metadata": {},
   "source": [
    "#### - *ceil y floor*:"
   ]
  },
  {
   "cell_type": "code",
   "execution_count": 142,
   "id": "72c05916-8649-4164-a135-9ec20deb155c",
   "metadata": {},
   "outputs": [
    {
     "name": "stdout",
     "output_type": "stream",
     "text": [
      "2\n",
      "1\n"
     ]
    }
   ],
   "source": [
    "import math\n",
    "\n",
    "x1 = math.ceil(1.7568)\n",
    "y1 = math.floor(1.7568)\n",
    "\n",
    "print(x1) # returns 2\n",
    "print(y1) # returns 1"
   ]
  },
  {
   "cell_type": "markdown",
   "id": "4c862ce0-ad85-4c92-b447-06d78d27f702",
   "metadata": {},
   "source": [
    "#### - *math.pi*:"
   ]
  },
  {
   "cell_type": "code",
   "execution_count": 145,
   "id": "6c6409c7-1a6b-43a0-a148-9d52d0394ad0",
   "metadata": {},
   "outputs": [
    {
     "name": "stdout",
     "output_type": "stream",
     "text": [
      "3.141592653589793\n"
     ]
    }
   ],
   "source": [
    "import math\n",
    "\n",
    "x = math.pi\n",
    "\n",
    "print(x)"
   ]
  },
  {
   "cell_type": "markdown",
   "id": "4632194e-3f58-41ab-88a8-07dba887dc15",
   "metadata": {},
   "source": [
    "  "
   ]
  },
  {
   "cell_type": "markdown",
   "id": "c5817cd1-7206-4ded-8573-6fd336b8aa8c",
   "metadata": {},
   "source": [
    "### 3. Operaciones con variables de tipo **string**:"
   ]
  },
  {
   "cell_type": "markdown",
   "id": "4b88b250-6b00-47c9-81f5-c9affed9807e",
   "metadata": {},
   "source": [
    "#### - *upper() y lower():*"
   ]
  },
  {
   "cell_type": "code",
   "execution_count": 148,
   "id": "d222da85-6044-4139-818d-b54b7d7641d2",
   "metadata": {},
   "outputs": [
    {
     "name": "stdout",
     "output_type": "stream",
     "text": [
      "WELCOME TO THE MACHINE LEARNING COURSE!\n",
      "welcome to the machine learning course!\n"
     ]
    }
   ],
   "source": [
    "sTemp = \"Welcome to the Machine Learning course!\"\n",
    "print(sTemp.upper())\n",
    "print(sTemp.lower())"
   ]
  },
  {
   "cell_type": "markdown",
   "id": "454c19f3-8b3b-4f8f-aee6-ffcb07ff2c4e",
   "metadata": {},
   "source": [
    "#### - *Slicing strings:*"
   ]
  },
  {
   "cell_type": "code",
   "execution_count": 150,
   "id": "1f43a6f5-d690-4a2e-8229-8ed0f363bebc",
   "metadata": {},
   "outputs": [
    {
     "name": "stdout",
     "output_type": "stream",
     "text": [
      "come to LM\n"
     ]
    }
   ],
   "source": [
    "sTemp1 = \"Welcome to LM Course\"\n",
    "print(sTemp1[3:13])"
   ]
  },
  {
   "cell_type": "markdown",
   "id": "559f3dac-11ce-4eaa-bb82-bc40b8456968",
   "metadata": {},
   "source": [
    "#### - *Split strings:*"
   ]
  },
  {
   "cell_type": "code",
   "execution_count": 152,
   "id": "4592b311-6c95-434e-a76c-09b42e044847",
   "metadata": {},
   "outputs": [
    {
     "name": "stdout",
     "output_type": "stream",
     "text": [
      "['Red', ' Blue', ' Green']\n"
     ]
    }
   ],
   "source": [
    "sTemp2 = \"Red, Blue, Green\"\n",
    "print(sTemp2.split(\",\"))"
   ]
  },
  {
   "cell_type": "markdown",
   "id": "4a3c1fb7-fb0b-42a1-b112-c6911a56fdef",
   "metadata": {},
   "source": [
    "  "
   ]
  },
  {
   "cell_type": "markdown",
   "id": "0d209590-c5ce-41e7-a785-3d5ac1537689",
   "metadata": {},
   "source": [
    "### 4. Link e imágenes usando Markdown"
   ]
  },
  {
   "cell_type": "markdown",
   "id": "a8ddb8bf-31aa-44a8-a352-f37bf46f3aed",
   "metadata": {},
   "source": [
    "#### - **Links:**"
   ]
  },
  {
   "cell_type": "markdown",
   "id": "faf2d691-144f-4ff5-b153-bcd0092da104",
   "metadata": {},
   "source": [
    "Cliquee en el siguiente link para ver una explicación acerca del concepto \"Machine Learning\": [Link](https://en.wikipedia.org/wiki/Machine_learning \"Machine Learning on Wikipedia\")"
   ]
  },
  {
   "cell_type": "markdown",
   "id": "a295ce78-7e9f-432c-91a3-90838aa3d9f4",
   "metadata": {},
   "source": [
    "#### - **Images:**"
   ]
  },
  {
   "cell_type": "markdown",
   "id": "327c5327-9d05-4dfe-b211-8f5171ca276b",
   "metadata": {},
   "source": [
    "![Este es un ejemplo del uso de Markdown con imágenes:](https://data-universe.org/wp-content/uploads/2023/12/el-papel-de-machine-learning-en-la-automatizacion-de-procesos-1.webp)"
   ]
  }
 ],
 "metadata": {
  "kernelspec": {
   "display_name": "Python 3 (ipykernel)",
   "language": "python",
   "name": "python3"
  },
  "language_info": {
   "codemirror_mode": {
    "name": "ipython",
    "version": 3
   },
   "file_extension": ".py",
   "mimetype": "text/x-python",
   "name": "python",
   "nbconvert_exporter": "python",
   "pygments_lexer": "ipython3",
   "version": "3.12.7"
  }
 },
 "nbformat": 4,
 "nbformat_minor": 5
}
